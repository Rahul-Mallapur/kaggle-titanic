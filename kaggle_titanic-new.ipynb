{
 "cells": [
  {
   "cell_type": "code",
   "execution_count": 1,
   "metadata": {
    "collapsed": false
   },
   "outputs": [],
   "source": [
    "import pandas as pd \n",
    "import numpy as np \n",
    "import matplotlib.pyplot as plt \n",
    "from sklearn import svm, linear_model, datasets, neighbors\n",
    "import random\n",
    "from sklearn.neural_network import MLPClassifier\n",
    "import sklearn.ensemble as ske\n",
    "%matplotlib inline"
   ]
  },
  {
   "cell_type": "code",
   "execution_count": 2,
   "metadata": {
    "collapsed": false
   },
   "outputs": [],
   "source": [
    "#importing test and train data\n",
    "df_train = pd.read_csv(\"data/train.csv\")\n",
    "df_test = pd.read_csv(\"data/test.csv\")\n",
    "\n",
    "df = df_train.copy()\n",
    "df = df.drop(['Survived'], axis = 1)\n",
    "\n",
    "#training dataset contains 891 samples\n",
    "#combining both the datasets together for similar transformations\n",
    "df = df.append(df_test)\n",
    "df = df.reset_index(drop=True)"
   ]
  },
  {
   "cell_type": "code",
   "execution_count": 3,
   "metadata": {
    "collapsed": false
   },
   "outputs": [],
   "source": [
    "#Feature Engineering: (did it in Excel earlier, moving it here)\n",
    "#step_1: Get prefixes from the Name. Categorize the prefixes\n",
    "#step_2: Fill in missing Age values by the category medians\n",
    "#step_3: Fill in the missing Embarked values with the most frequent\n",
    "#step_4: Fill in missing Fare value with the average\n",
    "#step_5: replacing the missing values in Cabin with X\n",
    "#step_6: getting Pclass in shape"
   ]
  },
  {
   "cell_type": "code",
   "execution_count": 4,
   "metadata": {
    "collapsed": false
   },
   "outputs": [],
   "source": [
    "#step_1: Get prefixes from the Name. Categorize the prefixes\n",
    "df['Prefix'] = df['Name'].map(lambda name:name.split(',')[1].split('.')[0].strip())\n",
    "df = df.replace(['Don', 'Dona', 'Jonkheer', 'Lady', 'Sir', 'the Countess'],\"HighBorn\")\n",
    "df = df.replace(['Capt', 'Col','Dr', 'Major', 'Rev'],'Army')\n",
    "df = df.replace(['Dr', 'Major', 'Rev'],'Army')\n",
    "df = df.replace(['Mlle'],'Miss')\n",
    "df = df.replace(['Mme', 'Ms'],'Mrs')\n",
    "\n",
    "dummy = pd.get_dummies(df['Prefix'],prefix='Prefix')\n",
    "df = pd.concat([df,dummy],axis=1)\n",
    "df = df.drop(['Name'], axis = 1)"
   ]
  },
  {
   "cell_type": "code",
   "execution_count": 5,
   "metadata": {
    "collapsed": false
   },
   "outputs": [],
   "source": [
    "#step_2: Fill in missing Age values by the category averages\n",
    "grouped_data = df.groupby(['Sex','Pclass','Prefix'])\n",
    "grouped_data = grouped_data.median()\n",
    "\n",
    "#missing_age_values = np.where(pd.isnull(df['Age']))\n",
    "\n",
    "#replacing the missing values with the category(Sex, Pclass, Prefix) averages\n",
    "for i in range(0,df.shape[0]):\n",
    "    if(pd.isnull(df['Age'][i])):\n",
    "        age = grouped_data.loc[df['Sex'][i], df['Pclass'][i], df['Prefix'][i]]['Age']\n",
    "        df.set_value(i,'Age', age)\n",
    "        \n",
    "df['Sex'] = df['Sex'].map({'male':1,'female':0})\n",
    "df = df.drop(['Prefix'], axis = 1)"
   ]
  },
  {
   "cell_type": "code",
   "execution_count": 6,
   "metadata": {
    "collapsed": false
   },
   "outputs": [],
   "source": [
    "#step_3: Fill in missing Embarked value\n",
    "df['Embarked'] = df['Embarked'].fillna('S')\n",
    "dummy = pd.get_dummies(df['Embarked'],prefix='Embarked')\n",
    "df = pd.concat([df,dummy],axis=1)\n",
    "df = df.drop(['Embarked'], axis = 1)"
   ]
  },
  {
   "cell_type": "code",
   "execution_count": 7,
   "metadata": {
    "collapsed": false
   },
   "outputs": [],
   "source": [
    "#step_4: Fill in missing Fare value\n",
    "df['Fare'] = df['Fare'].fillna(df['Fare'].mean())"
   ]
  },
  {
   "cell_type": "code",
   "execution_count": 8,
   "metadata": {
    "collapsed": true
   },
   "outputs": [],
   "source": [
    "#step_5: replacing the missing values in Cabin with X\n",
    "df['Cabin'] = df['Cabin'].fillna('X')\n",
    "df['Cabin'] = df['Cabin'].map(lambda c : c[0])\n",
    "dummy = pd.get_dummies(df['Cabin'],prefix='Cabin')\n",
    "df = pd.concat([df,dummy],axis=1)\n",
    "df = df.drop(['Cabin'], axis = 1)"
   ]
  },
  {
   "cell_type": "code",
   "execution_count": 9,
   "metadata": {
    "collapsed": false
   },
   "outputs": [],
   "source": [
    "#step_6: getting Pclass in shape\n",
    "dummy = pd.get_dummies(df['Pclass'],prefix='Pclass')\n",
    "df = pd.concat([df,dummy],axis=1)\n",
    "df = df.drop(['Pclass'], axis = 1)"
   ]
  },
  {
   "cell_type": "code",
   "execution_count": 10,
   "metadata": {
    "collapsed": false
   },
   "outputs": [],
   "source": [
    "#step7: extracting the cabin/section feature from the Ticket\n",
    "df['Ticket'] = df['Ticket'].str.replace('/','')\n",
    "df['Ticket'] = df['Ticket'].str.replace('.','')\n",
    "\n",
    "#for i in range(0,df.shape[0]):\n",
    "    #ticket = df['Ticket'][i]\n",
    "df['Ticket'] = df['Ticket'].map(lambda ticket:ticket.split(' ')[0].strip())\n",
    "\n",
    "for i in range(0,df.shape[0]):\n",
    "    ticket = df['Ticket'][i]\n",
    "    if ticket.isnumeric():\n",
    "        df.set_value(i,'Ticket', 'X')\n",
    "    else: \n",
    "        df.set_value(i,'Ticket', ticket)\n",
    "\n",
    "df['Ticket'] = df['Ticket'].fillna('X')\n",
    "\n",
    "dummy = pd.get_dummies(df['Ticket'],prefix='Ticket')\n",
    "df = pd.concat([df,dummy],axis=1)\n",
    "df = df.drop(['Ticket'], axis = 1)\n",
    "\n",
    "\n",
    "df_copy = df.copy()"
   ]
  },
  {
   "cell_type": "code",
   "execution_count": 11,
   "metadata": {
    "collapsed": false
   },
   "outputs": [
    {
     "name": "stderr",
     "output_type": "stream",
     "text": [
      "/Users/rahulmallapur/anaconda/lib/python3.6/site-packages/pandas/core/indexing.py:141: SettingWithCopyWarning: \n",
      "A value is trying to be set on a copy of a slice from a DataFrame\n",
      "\n",
      "See the caveats in the documentation: http://pandas.pydata.org/pandas-docs/stable/indexing.html#indexing-view-versus-copy\n",
      "  self._setitem_with_indexer(indexer, value)\n"
     ]
    }
   ],
   "source": [
    "#step8: processing the family variable, creating new categories based on the size of the family\n",
    "df['FamilySize'] = df['SibSp']+ df['Parch']+1\n",
    "df['Single'] = 0\n",
    "df['SmallFamily'] = 0\n",
    "df['LargeFamily'] = 0\n",
    "\n",
    "df['Single'].loc[1>=df['FamilySize']] = 1\n",
    "df['SmallFamily'].loc[df['FamilySize']==2] = 1\n",
    "df['SmallFamily'].loc[df['FamilySize']==3] = 1\n",
    "df['SmallFamily'].loc[df['FamilySize']==4] = 1\n",
    "df['LargeFamily'].loc[df['FamilySize'] > 4] = 1\n",
    "\n",
    "df = df.drop(['PassengerId'], axis = 1)"
   ]
  },
  {
   "cell_type": "code",
   "execution_count": 12,
   "metadata": {
    "collapsed": false
   },
   "outputs": [
    {
     "name": "stderr",
     "output_type": "stream",
     "text": [
      "/Users/rahulmallapur/anaconda/lib/python3.6/site-packages/ipykernel/__main__.py:5: SettingWithCopyWarning: \n",
      "A value is trying to be set on a copy of a slice from a DataFrame.\n",
      "Try using .loc[row_indexer,col_indexer] = value instead\n",
      "\n",
      "See the caveats in the documentation: http://pandas.pydata.org/pandas-docs/stable/indexing.html#indexing-view-versus-copy\n"
     ]
    }
   ],
   "source": [
    "#separating the train and test datasets\n",
    "df_train = df[:891]\n",
    "df_test = df[891:]\n",
    "dummy = pd.read_csv(\"data/train.csv\")\n",
    "df_train['Survived'] = dummy['Survived']\n",
    "\n",
    "#shuffling the data to remove bias\n",
    "#df_train = df_train.sample(frac=1).reset_index(drop=True)\n",
    "\n",
    "x = df_train\n",
    "x = x.drop(['Survived'], axis=1)\n",
    "y = df_train['Survived']\n",
    "\n",
    "x_test = df_test"
   ]
  },
  {
   "cell_type": "code",
   "execution_count": 14,
   "metadata": {
    "collapsed": false
   },
   "outputs": [
    {
     "data": {
      "text/plain": [
       "<matplotlib.axes._subplots.AxesSubplot at 0x11b209e48>"
      ]
     },
     "execution_count": 14,
     "metadata": {},
     "output_type": "execute_result"
    },
    {
     "data": {
      "image/png": "[encoded data removed]",
      "text/plain": [
       "<matplotlib.figure.Figure at 0x11b209470>"
      ]
     },
     "metadata": {},
     "output_type": "display_data"
    }
   ],
   "source": [
    "#Using random forest classifier to create feature importances,\n",
    "#That will be used for feature selection \n",
    "\n",
    "clf = ske.RandomForestClassifier(n_estimators = 100)\n",
    "clf = clf.fit(x, y)\n",
    "\n",
    "features = pd.DataFrame()\n",
    "features['feature'] = x.columns\n",
    "features['importance'] = clf.feature_importances_\n",
    "\n",
    "features.sort_values(by=['importance'], ascending=True, inplace=True)\n",
    "features.set_index('feature', inplace=True)\n",
    "features.plot(kind='barh', figsize=(20, 20))"
   ]
  },
  {
   "cell_type": "code",
   "execution_count": 16,
   "metadata": {
    "collapsed": false
   },
   "outputs": [],
   "source": [
    "#selecting the important features, using clf from above for SelectFromModel\n",
    "from sklearn.feature_selection import SelectFromModel\n",
    "model = SelectFromModel(clf, prefit=True)\n",
    "x_reduced = model.transform(x)\n",
    "\n",
    "x_test_reduced = model.transform(x_test)"
   ]
  },
  {
   "cell_type": "code",
   "execution_count": 19,
   "metadata": {
    "collapsed": false
   },
   "outputs": [
    {
     "name": "stdout",
     "output_type": "stream",
     "text": [
      "Best score: 0.8383838383838383\n",
      "Best parameters: {'bootstrap': False, 'max_depth': 6, 'max_features': 'log2', 'min_samples_leaf': 1, 'min_samples_split': 4, 'n_estimators': 100}\n"
     ]
    }
   ],
   "source": [
    "#hyperparameters tuning for random forest\n",
    "from sklearn.model_selection import GridSearchCV, train_test_split\n",
    "\n",
    "#splitting the data into train and validataion\n",
    "#x_train, y_train, x_valid, y_valid = train_test_split(x_train_reduced, y, test_size = 0.1)\n",
    "\n",
    "#vary the following parameters\n",
    "parameters = {'max_depth' : [4, 6, 8, 10],\n",
    "              'n_estimators': [100, 50, 10, 5],\n",
    "              'max_features': ['sqrt', 'auto', 'log2'],\n",
    "              'min_samples_split': [2, 4, 6],\n",
    "              'min_samples_leaf': [1, 3, 5],\n",
    "              'bootstrap': [True, False]}\n",
    "\n",
    "solver = ske.RandomForestClassifier()\n",
    "\n",
    "scores = 'accuracy'\n",
    "\n",
    "models = GridSearchCV(solver, scoring = scores, param_grid = parameters)\n",
    "\n",
    "models.fit(x, y)\n",
    "\n",
    "print('Best score: {}'.format(models.best_score_))\n",
    "print('Best parameters: {}'.format(models.best_params_))"
   ]
  },
  {
   "cell_type": "code",
   "execution_count": 18,
   "metadata": {
    "collapsed": false
   },
   "outputs": [],
   "source": [
    "final_model = models\n",
    "parameters = models.best_params_\n",
    "\n",
    "df_output = pd.DataFrame()\n",
    "dummy = pd.read_csv('data/test.csv')\n",
    "df_output['PassengerId'] = dummy['PassengerId']\n",
    "df_output['Survived'] = final_model.predict(x_test).astype(int)\n",
    "df_output[['PassengerId','Survived']].to_csv('data/output.csv',index=False)"
   ]
  },
  {
   "cell_type": "code",
   "execution_count": 21,
   "metadata": {
    "collapsed": false
   },
   "outputs": [
    {
     "data": {
      "text/html": [
       "<div>\n",
       "<table border=\"1\" class=\"dataframe\">\n",
       "  <thead>\n",
       "    <tr style=\"text-align: right;\">\n",
       "      <th></th>\n",
       "      <th>Sex</th>\n",
       "      <th>Age</th>\n",
       "      <th>SibSp</th>\n",
       "      <th>Parch</th>\n",
       "      <th>Fare</th>\n",
       "      <th>Prefix_Army</th>\n",
       "      <th>Prefix_HighBorn</th>\n",
       "      <th>Prefix_Master</th>\n",
       "      <th>Prefix_Miss</th>\n",
       "      <th>Prefix_Mr</th>\n",
       "      <th>...</th>\n",
       "      <th>Ticket_STONO2</th>\n",
       "      <th>Ticket_STONOQ</th>\n",
       "      <th>Ticket_SWPP</th>\n",
       "      <th>Ticket_WC</th>\n",
       "      <th>Ticket_WEP</th>\n",
       "      <th>Ticket_X</th>\n",
       "      <th>FamilySize</th>\n",
       "      <th>Single</th>\n",
       "      <th>SmallFamily</th>\n",
       "      <th>LargeFamily</th>\n",
       "    </tr>\n",
       "  </thead>\n",
       "  <tbody>\n",
       "    <tr>\n",
       "      <th>0</th>\n",
       "      <td>1</td>\n",
       "      <td>22.0</td>\n",
       "      <td>1</td>\n",
       "      <td>0</td>\n",
       "      <td>7.2500</td>\n",
       "      <td>0</td>\n",
       "      <td>0</td>\n",
       "      <td>0</td>\n",
       "      <td>0</td>\n",
       "      <td>1</td>\n",
       "      <td>...</td>\n",
       "      <td>0</td>\n",
       "      <td>0</td>\n",
       "      <td>0</td>\n",
       "      <td>0</td>\n",
       "      <td>0</td>\n",
       "      <td>0</td>\n",
       "      <td>2</td>\n",
       "      <td>0</td>\n",
       "      <td>1</td>\n",
       "      <td>0</td>\n",
       "    </tr>\n",
       "    <tr>\n",
       "      <th>1</th>\n",
       "      <td>0</td>\n",
       "      <td>38.0</td>\n",
       "      <td>1</td>\n",
       "      <td>0</td>\n",
       "      <td>71.2833</td>\n",
       "      <td>0</td>\n",
       "      <td>0</td>\n",
       "      <td>0</td>\n",
       "      <td>0</td>\n",
       "      <td>0</td>\n",
       "      <td>...</td>\n",
       "      <td>0</td>\n",
       "      <td>0</td>\n",
       "      <td>0</td>\n",
       "      <td>0</td>\n",
       "      <td>0</td>\n",
       "      <td>0</td>\n",
       "      <td>2</td>\n",
       "      <td>0</td>\n",
       "      <td>1</td>\n",
       "      <td>0</td>\n",
       "    </tr>\n",
       "    <tr>\n",
       "      <th>2</th>\n",
       "      <td>0</td>\n",
       "      <td>26.0</td>\n",
       "      <td>0</td>\n",
       "      <td>0</td>\n",
       "      <td>7.9250</td>\n",
       "      <td>0</td>\n",
       "      <td>0</td>\n",
       "      <td>0</td>\n",
       "      <td>1</td>\n",
       "      <td>0</td>\n",
       "      <td>...</td>\n",
       "      <td>1</td>\n",
       "      <td>0</td>\n",
       "      <td>0</td>\n",
       "      <td>0</td>\n",
       "      <td>0</td>\n",
       "      <td>0</td>\n",
       "      <td>1</td>\n",
       "      <td>1</td>\n",
       "      <td>0</td>\n",
       "      <td>0</td>\n",
       "    </tr>\n",
       "    <tr>\n",
       "      <th>3</th>\n",
       "      <td>0</td>\n",
       "      <td>35.0</td>\n",
       "      <td>1</td>\n",
       "      <td>0</td>\n",
       "      <td>53.1000</td>\n",
       "      <td>0</td>\n",
       "      <td>0</td>\n",
       "      <td>0</td>\n",
       "      <td>0</td>\n",
       "      <td>0</td>\n",
       "      <td>...</td>\n",
       "      <td>0</td>\n",
       "      <td>0</td>\n",
       "      <td>0</td>\n",
       "      <td>0</td>\n",
       "      <td>0</td>\n",
       "      <td>1</td>\n",
       "      <td>2</td>\n",
       "      <td>0</td>\n",
       "      <td>1</td>\n",
       "      <td>0</td>\n",
       "    </tr>\n",
       "    <tr>\n",
       "      <th>4</th>\n",
       "      <td>1</td>\n",
       "      <td>35.0</td>\n",
       "      <td>0</td>\n",
       "      <td>0</td>\n",
       "      <td>8.0500</td>\n",
       "      <td>0</td>\n",
       "      <td>0</td>\n",
       "      <td>0</td>\n",
       "      <td>0</td>\n",
       "      <td>1</td>\n",
       "      <td>...</td>\n",
       "      <td>0</td>\n",
       "      <td>0</td>\n",
       "      <td>0</td>\n",
       "      <td>0</td>\n",
       "      <td>0</td>\n",
       "      <td>1</td>\n",
       "      <td>1</td>\n",
       "      <td>1</td>\n",
       "      <td>0</td>\n",
       "      <td>0</td>\n",
       "    </tr>\n",
       "  </tbody>\n",
       "</table>\n",
       "<p>5 rows × 67 columns</p>\n",
       "</div>"
      ],
      "text/plain": [
       "   Sex   Age  SibSp  Parch     Fare  Prefix_Army  Prefix_HighBorn  \\\n",
       "0    1  22.0      1      0   7.2500            0                0   \n",
       "1    0  38.0      1      0  71.2833            0                0   \n",
       "2    0  26.0      0      0   7.9250            0                0   \n",
       "3    0  35.0      1      0  53.1000            0                0   \n",
       "4    1  35.0      0      0   8.0500            0                0   \n",
       "\n",
       "   Prefix_Master  Prefix_Miss  Prefix_Mr     ...       Ticket_STONO2  \\\n",
       "0              0            0          1     ...                   0   \n",
       "1              0            0          0     ...                   0   \n",
       "2              0            1          0     ...                   1   \n",
       "3              0            0          0     ...                   0   \n",
       "4              0            0          1     ...                   0   \n",
       "\n",
       "   Ticket_STONOQ  Ticket_SWPP  Ticket_WC  Ticket_WEP  Ticket_X  FamilySize  \\\n",
       "0              0            0          0           0         0           2   \n",
       "1              0            0          0           0         0           2   \n",
       "2              0            0          0           0         0           1   \n",
       "3              0            0          0           0         1           2   \n",
       "4              0            0          0           0         1           1   \n",
       "\n",
       "   Single  SmallFamily  LargeFamily  \n",
       "0       0            1            0  \n",
       "1       0            1            0  \n",
       "2       1            0            0  \n",
       "3       0            1            0  \n",
       "4       1            0            0  \n",
       "\n",
       "[5 rows x 67 columns]"
      ]
     },
     "execution_count": 21,
     "metadata": {},
     "output_type": "execute_result"
    }
   ],
   "source": [
    "x.head()"
   ]
  },
  {
   "cell_type": "code",
   "execution_count": null,
   "metadata": {
    "collapsed": true
   },
   "outputs": [],
   "source": []
  }
 ],
 "metadata": {
  "kernelspec": {
   "display_name": "Python 3",
   "language": "python",
   "name": "python3"
  },
  "language_info": {
   "codemirror_mode": {
    "name": "ipython",
    "version": 3
   },
   "file_extension": ".py",
   "mimetype": "text/x-python",
   "name": "python",
   "nbconvert_exporter": "python",
   "pygments_lexer": "ipython3",
   "version": "3.6.0"
  }
 },
 "nbformat": 4,
 "nbformat_minor": 2
}
